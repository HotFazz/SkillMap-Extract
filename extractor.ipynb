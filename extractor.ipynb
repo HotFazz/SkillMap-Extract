{
 "cells": [
  {
   "cell_type": "markdown",
   "metadata": {},
   "source": [
    "### Packages"
   ]
  },
  {
   "cell_type": "code",
   "execution_count": 8,
   "metadata": {},
   "outputs": [
    {
     "name": "stdout",
     "output_type": "stream",
     "text": [
      "Requirement already satisfied: openai in /Library/Frameworks/Python.framework/Versions/3.11/lib/python3.11/site-packages (1.51.0)\n",
      "Requirement already satisfied: python-dotenv in /Library/Frameworks/Python.framework/Versions/3.11/lib/python3.11/site-packages (1.0.1)\n",
      "Requirement already satisfied: anyio<5,>=3.5.0 in /Library/Frameworks/Python.framework/Versions/3.11/lib/python3.11/site-packages (from openai) (4.4.0)\n",
      "Requirement already satisfied: distro<2,>=1.7.0 in /Library/Frameworks/Python.framework/Versions/3.11/lib/python3.11/site-packages (from openai) (1.9.0)\n",
      "Requirement already satisfied: httpx<1,>=0.23.0 in /Library/Frameworks/Python.framework/Versions/3.11/lib/python3.11/site-packages (from openai) (0.27.0)\n",
      "Requirement already satisfied: jiter<1,>=0.4.0 in /Library/Frameworks/Python.framework/Versions/3.11/lib/python3.11/site-packages (from openai) (0.5.0)\n",
      "Requirement already satisfied: pydantic<3,>=1.9.0 in /Library/Frameworks/Python.framework/Versions/3.11/lib/python3.11/site-packages (from openai) (2.7.4)\n",
      "Requirement already satisfied: sniffio in /Library/Frameworks/Python.framework/Versions/3.11/lib/python3.11/site-packages (from openai) (1.3.1)\n",
      "Requirement already satisfied: tqdm>4 in /Library/Frameworks/Python.framework/Versions/3.11/lib/python3.11/site-packages (from openai) (4.66.4)\n",
      "Requirement already satisfied: typing-extensions<5,>=4.11 in /Users/avidfayyaz/Library/Python/3.11/lib/python/site-packages (from openai) (4.12.2)\n",
      "Requirement already satisfied: idna>=2.8 in /Library/Frameworks/Python.framework/Versions/3.11/lib/python3.11/site-packages (from anyio<5,>=3.5.0->openai) (3.7)\n",
      "Requirement already satisfied: certifi in /Library/Frameworks/Python.framework/Versions/3.11/lib/python3.11/site-packages (from httpx<1,>=0.23.0->openai) (2024.6.2)\n",
      "Requirement already satisfied: httpcore==1.* in /Library/Frameworks/Python.framework/Versions/3.11/lib/python3.11/site-packages (from httpx<1,>=0.23.0->openai) (1.0.5)\n",
      "Requirement already satisfied: h11<0.15,>=0.13 in /Library/Frameworks/Python.framework/Versions/3.11/lib/python3.11/site-packages (from httpcore==1.*->httpx<1,>=0.23.0->openai) (0.14.0)\n",
      "Requirement already satisfied: annotated-types>=0.4.0 in /Library/Frameworks/Python.framework/Versions/3.11/lib/python3.11/site-packages (from pydantic<3,>=1.9.0->openai) (0.7.0)\n",
      "Requirement already satisfied: pydantic-core==2.18.4 in /Library/Frameworks/Python.framework/Versions/3.11/lib/python3.11/site-packages (from pydantic<3,>=1.9.0->openai) (2.18.4)\n",
      "Note: you may need to restart the kernel to use updated packages.\n"
     ]
    }
   ],
   "source": [
    "%pip install openai python-dotenv\n"
   ]
  },
  {
   "cell_type": "markdown",
   "metadata": {},
   "source": [
    "### Environment Variables and Paths"
   ]
  },
  {
   "cell_type": "code",
   "execution_count": 10,
   "metadata": {},
   "outputs": [
    {
     "ename": "NameError",
     "evalue": "name 'OPENAI_API_KEY' is not defined",
     "output_type": "error",
     "traceback": [
      "\u001b[0;31m---------------------------------------------------------------------------\u001b[0m",
      "\u001b[0;31mNameError\u001b[0m                                 Traceback (most recent call last)",
      "Cell \u001b[0;32mIn[10], line 11\u001b[0m\n\u001b[1;32m      8\u001b[0m \u001b[38;5;28;01mfrom\u001b[39;00m \u001b[38;5;21;01mopenai\u001b[39;00m \u001b[38;5;28;01mimport\u001b[39;00m OpenAI\n\u001b[1;32m     10\u001b[0m load_dotenv()\n\u001b[0;32m---> 11\u001b[0m openai_client \u001b[38;5;241m=\u001b[39m OpenAI(api_key\u001b[38;5;241m=\u001b[39m\u001b[43mOPENAI_API_KEY\u001b[49m)\n\u001b[1;32m     14\u001b[0m OPENAI_API_KEY \u001b[38;5;241m=\u001b[39m os\u001b[38;5;241m.\u001b[39mgetenv(\u001b[38;5;124m\"\u001b[39m\u001b[38;5;124mOPENAI_API_KEY\u001b[39m\u001b[38;5;124m\"\u001b[39m)\n\u001b[1;32m     15\u001b[0m \u001b[38;5;28;01mif\u001b[39;00m \u001b[38;5;129;01mnot\u001b[39;00m OPENAI_API_KEY:\n",
      "\u001b[0;31mNameError\u001b[0m: name 'OPENAI_API_KEY' is not defined"
     ]
    }
   ],
   "source": [
    "import os\n",
    "import re\n",
    "import openai\n",
    "import json\n",
    "from dotenv import load_dotenv\n",
    "from pathlib import Path\n",
    "\n",
    "from openai import OpenAI\n",
    "\n",
    "load_dotenv()\n",
    "OPENAI_API_KEY = os.getenv(\"OPENAI_API_KEY\")\n",
    "\n",
    "\n",
    "\n",
    "if not OPENAI_API_KEY:\n",
    "    raise ValueError(\"OpenAI API key not found. Please set it in the .env file.\")\n",
    "\n",
    "openai_client = OpenAI(api_key=OPENAI_API_KEY)\n",
    "\n",
    "# Define the base directory\n",
    "BASE_DIR = Path.cwd()\n",
    "\n",
    "# Modules directory\n",
    "MODULES_DIR = BASE_DIR / \"Modules\"\n",
    "\n",
    "# Define output directory for skill maps\n",
    "SKILL_MAP_DIR = BASE_DIR / \"skill_map\"\n",
    "SKILL_MAP_DIR.mkdir(exist_ok=True)\n",
    "\n",
    "print(\"Setup complete.\")"
   ]
  },
  {
   "cell_type": "markdown",
   "metadata": {},
   "source": [
    "### Read Markdown"
   ]
  },
  {
   "cell_type": "code",
   "execution_count": 11,
   "metadata": {},
   "outputs": [],
   "source": [
    "def read_markdown(file_path):\n",
    "    with open(file_path, 'r', encoding='utf-8') as file:\n",
    "        return file.read()\n"
   ]
  },
  {
   "cell_type": "markdown",
   "metadata": {},
   "source": [
    "### Generate Detailed Skill Map"
   ]
  },
  {
   "cell_type": "code",
   "execution_count": 12,
   "metadata": {},
   "outputs": [],
   "source": [
    "def generate_skill_map(module_number, learning_goals, previous_skills=None):\n",
    "    \"\"\"\n",
    "    Generates a detailed skill map for a module using OpenAI's API.\n",
    "\n",
    "    :param module_number: The current module number (e.g., M1, M2).\n",
    "    :param learning_goals: The basic learning goals extracted from learning_goals.md.\n",
    "    :param previous_skills: Accumulated skills from previous modules.\n",
    "    :return: Detailed skill map as a string.\n",
    "    \"\"\"\n",
    "    prompt = f\"\"\"\n",
    "You are an educational content creator specializing in programming courses. Based on the following basic learning goals for Module {module_number}, expand them into a comprehensive and detailed skill map. The skill map should include a general description and bullet points with detailed sub-points. Ensure that the skills are relational and sequential, building upon the skills from previous modules.\n",
    "\n",
    "**Basic Learning Goals:**\n",
    "{learning_goals}\n",
    "\n",
    "**Previous Skills:**\n",
    "{previous_skills if previous_skills else \"None\"}\n",
    "\n",
    "**Detailed Skill Map:**\n",
    "\"\"\"\n",
    "\n",
    "    try:\n",
    "        response = openai_client.chat.completions.create(\n",
    "            model=\"gpt-4\",\n",
    "            messages=[\n",
    "                {\"role\": \"system\", \"content\": \"You are ChatGPT, a large language model trained by OpenAI.\"},\n",
    "                {\"role\": \"user\", \"content\": prompt}\n",
    "            ],\n",
    "            max_tokens=1000,\n",
    "            temperature=0.3,\n",
    "        )\n",
    "        detailed_skill_map = response.choices[0].message['content'].strip()\n",
    "        return detailed_skill_map\n",
    "    except Exception as e:\n",
    "        print(f\"Error during OpenAI API call: {e}\")\n",
    "        return None\n"
   ]
  },
  {
   "cell_type": "markdown",
   "metadata": {},
   "source": [
    "###  Iterate Through Modules and Generate Skill Maps"
   ]
  },
  {
   "cell_type": "code",
   "execution_count": 13,
   "metadata": {},
   "outputs": [
    {
     "ename": "NameError",
     "evalue": "name 'MODULES_DIR' is not defined",
     "output_type": "error",
     "traceback": [
      "\u001b[0;31m---------------------------------------------------------------------------\u001b[0m",
      "\u001b[0;31mNameError\u001b[0m                                 Traceback (most recent call last)",
      "Cell \u001b[0;32mIn[13], line 7\u001b[0m\n\u001b[1;32m      4\u001b[0m accumulated_skills \u001b[38;5;241m=\u001b[39m OrderedDict()\n\u001b[1;32m      6\u001b[0m \u001b[38;5;66;03m# Iterate through each module in order (sorted by module number)\u001b[39;00m\n\u001b[0;32m----> 7\u001b[0m \u001b[38;5;28;01mfor\u001b[39;00m module_dir \u001b[38;5;129;01min\u001b[39;00m \u001b[38;5;28msorted\u001b[39m(\u001b[43mMODULES_DIR\u001b[49m\u001b[38;5;241m.\u001b[39miterdir(), key\u001b[38;5;241m=\u001b[39m\u001b[38;5;28;01mlambda\u001b[39;00m x: x\u001b[38;5;241m.\u001b[39mname):\n\u001b[1;32m      8\u001b[0m     \u001b[38;5;28;01mif\u001b[39;00m module_dir\u001b[38;5;241m.\u001b[39mis_dir():\n\u001b[1;32m      9\u001b[0m         module_number \u001b[38;5;241m=\u001b[39m module_dir\u001b[38;5;241m.\u001b[39mname  \u001b[38;5;66;03m# e.g., M1, M2, etc.\u001b[39;00m\n",
      "\u001b[0;31mNameError\u001b[0m: name 'MODULES_DIR' is not defined"
     ]
    }
   ],
   "source": [
    "from collections import OrderedDict\n",
    "\n",
    "# Initialize an ordered dictionary to keep track of accumulated skills\n",
    "accumulated_skills = OrderedDict()\n",
    "\n",
    "# Iterate through each module in order (sorted by module number)\n",
    "for module_dir in sorted(MODULES_DIR.iterdir(), key=lambda x: x.name):\n",
    "    if module_dir.is_dir():\n",
    "        module_number = module_dir.name  # e.g., M1, M2, etc.\n",
    "        print(f\"Processing {module_number}...\")\n",
    "\n",
    "        # Path to learning_goals.md\n",
    "        learning_goals_path = module_dir / \"learning_goals.md\"\n",
    "        if not learning_goals_path.exists():\n",
    "            print(f\"  Skipping {module_number}: learning_goals.md not found.\")\n",
    "            continue\n",
    "\n",
    "        # Read basic learning goals\n",
    "        basic_learning_goals = read_markdown(learning_goals_path)\n",
    "\n",
    "        # Get accumulated skills as a string\n",
    "        previous_skills = \"\\n\".join(accumulated_skills.values()) if accumulated_skills else None\n",
    "\n",
    "        # Generate detailed skill map\n",
    "        detailed_skill_map = generate_skill_map(module_number, basic_learning_goals, previous_skills)\n",
    "        if detailed_skill_map:\n",
    "            print(f\"  Generated skill map for {module_number}.\")\n",
    "            # Store in accumulated_skills\n",
    "            accumulated_skills[module_number] = detailed_skill_map\n",
    "        else:\n",
    "            print(f\"  Failed to generate skill map for {module_number}.\")\n"
   ]
  },
  {
   "cell_type": "markdown",
   "metadata": {},
   "source": [
    "### Parse Skill Map"
   ]
  },
  {
   "cell_type": "code",
   "execution_count": null,
   "metadata": {},
   "outputs": [],
   "source": [
    "def parse_skill_map(detailed_skill_map):\n",
    "    \"\"\"\n",
    "    Parses the detailed skill map text into a dictionary.\n",
    "\n",
    "    :param detailed_skill_map: The detailed skill map as a string.\n",
    "    :return: Parsed skill map as a dictionary.\n",
    "    \"\"\"\n",
    "    skill_map = {}\n",
    "    \n",
    "    # Split the response into lines\n",
    "    lines = detailed_skill_map.split('\\n')\n",
    "    \n",
    "    # Initialize variables\n",
    "    description = []\n",
    "    bullet_points = []\n",
    "    sub_bullets = []\n",
    "    current_section = 'description'\n",
    "\n",
    "    for line in lines:\n",
    "        stripped_line = line.strip()\n",
    "        if stripped_line.startswith('- '):\n",
    "            # Main bullet point\n",
    "            bullet = stripped_line.lstrip('- ').strip()\n",
    "            bullet_points.append(bullet)\n",
    "            current_section = 'bullet'\n",
    "        elif stripped_line.startswith('* '):\n",
    "            # Sub-bullet point\n",
    "            sub_bullet = stripped_line.lstrip('* ').strip()\n",
    "            if bullet_points:\n",
    "                bullet_points[-1] += f\" - {sub_bullet}\"\n",
    "        elif stripped_line:\n",
    "            if current_section == 'description':\n",
    "                description.append(stripped_line)\n",
    "    \n",
    "    skill_map['general_description'] = ' '.join(description)\n",
    "    skill_map['detailed_points'] = bullet_points\n",
    "    \n",
    "    return skill_map\n"
   ]
  }
 ],
 "metadata": {
  "kernelspec": {
   "display_name": "Python 3",
   "language": "python",
   "name": "python3"
  },
  "language_info": {
   "codemirror_mode": {
    "name": "ipython",
    "version": 3
   },
   "file_extension": ".py",
   "mimetype": "text/x-python",
   "name": "python",
   "nbconvert_exporter": "python",
   "pygments_lexer": "ipython3",
   "version": "3.11.3"
  }
 },
 "nbformat": 4,
 "nbformat_minor": 2
}
