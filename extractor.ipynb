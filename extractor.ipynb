{
 "cells": [
  {
   "cell_type": "markdown",
   "metadata": {},
   "source": [
    "### Packages"
   ]
  },
  {
   "cell_type": "code",
   "execution_count": 18,
   "metadata": {},
   "outputs": [
    {
     "name": "stdout",
     "output_type": "stream",
     "text": [
      "Requirement already satisfied: openai in /Library/Frameworks/Python.framework/Versions/3.11/lib/python3.11/site-packages (1.51.0)\n",
      "Requirement already satisfied: python-dotenv in /Library/Frameworks/Python.framework/Versions/3.11/lib/python3.11/site-packages (1.0.1)\n",
      "Requirement already satisfied: anyio<5,>=3.5.0 in /Library/Frameworks/Python.framework/Versions/3.11/lib/python3.11/site-packages (from openai) (4.4.0)\n",
      "Requirement already satisfied: distro<2,>=1.7.0 in /Library/Frameworks/Python.framework/Versions/3.11/lib/python3.11/site-packages (from openai) (1.9.0)\n",
      "Requirement already satisfied: httpx<1,>=0.23.0 in /Library/Frameworks/Python.framework/Versions/3.11/lib/python3.11/site-packages (from openai) (0.27.0)\n",
      "Requirement already satisfied: jiter<1,>=0.4.0 in /Library/Frameworks/Python.framework/Versions/3.11/lib/python3.11/site-packages (from openai) (0.5.0)\n",
      "Requirement already satisfied: pydantic<3,>=1.9.0 in /Library/Frameworks/Python.framework/Versions/3.11/lib/python3.11/site-packages (from openai) (2.7.4)\n",
      "Requirement already satisfied: sniffio in /Library/Frameworks/Python.framework/Versions/3.11/lib/python3.11/site-packages (from openai) (1.3.1)\n",
      "Requirement already satisfied: tqdm>4 in /Library/Frameworks/Python.framework/Versions/3.11/lib/python3.11/site-packages (from openai) (4.66.4)\n",
      "Requirement already satisfied: typing-extensions<5,>=4.11 in /Users/avidfayyaz/Library/Python/3.11/lib/python/site-packages (from openai) (4.12.2)\n",
      "Requirement already satisfied: idna>=2.8 in /Library/Frameworks/Python.framework/Versions/3.11/lib/python3.11/site-packages (from anyio<5,>=3.5.0->openai) (3.7)\n",
      "Requirement already satisfied: certifi in /Library/Frameworks/Python.framework/Versions/3.11/lib/python3.11/site-packages (from httpx<1,>=0.23.0->openai) (2024.6.2)\n",
      "Requirement already satisfied: httpcore==1.* in /Library/Frameworks/Python.framework/Versions/3.11/lib/python3.11/site-packages (from httpx<1,>=0.23.0->openai) (1.0.5)\n",
      "Requirement already satisfied: h11<0.15,>=0.13 in /Library/Frameworks/Python.framework/Versions/3.11/lib/python3.11/site-packages (from httpcore==1.*->httpx<1,>=0.23.0->openai) (0.14.0)\n",
      "Requirement already satisfied: annotated-types>=0.4.0 in /Library/Frameworks/Python.framework/Versions/3.11/lib/python3.11/site-packages (from pydantic<3,>=1.9.0->openai) (0.7.0)\n",
      "Requirement already satisfied: pydantic-core==2.18.4 in /Library/Frameworks/Python.framework/Versions/3.11/lib/python3.11/site-packages (from pydantic<3,>=1.9.0->openai) (2.18.4)\n",
      "Note: you may need to restart the kernel to use updated packages.\n"
     ]
    }
   ],
   "source": [
    "%pip install openai python-dotenv\n"
   ]
  },
  {
   "cell_type": "markdown",
   "metadata": {},
   "source": [
    "### Environment Variables and Paths"
   ]
  },
  {
   "cell_type": "code",
   "execution_count": 19,
   "metadata": {},
   "outputs": [
    {
     "name": "stdout",
     "output_type": "stream",
     "text": [
      "Setup complete.\n"
     ]
    }
   ],
   "source": [
    "import os\n",
    "import re\n",
    "import openai\n",
    "import json\n",
    "from dotenv import load_dotenv\n",
    "from pathlib import Path\n",
    "\n",
    "from openai import OpenAI\n",
    "\n",
    "load_dotenv()\n",
    "OPENAI_API_KEY = os.getenv(\"OPENAI_API_KEY\")\n",
    "\n",
    "\n",
    "\n",
    "if not OPENAI_API_KEY:\n",
    "    raise ValueError(\"OpenAI API key not found. Please set it in the .env file.\")\n",
    "\n",
    "openai_client = OpenAI(api_key=OPENAI_API_KEY)\n",
    "\n",
    "# Define the base directory\n",
    "BASE_DIR = Path.cwd()\n",
    "\n",
    "# Modules directory\n",
    "MODULES_DIR = BASE_DIR / \"Modules\"\n",
    "\n",
    "# Define output directory for skill maps\n",
    "SKILL_MAP_DIR = BASE_DIR / \"skill_map\"\n",
    "SKILL_MAP_DIR.mkdir(exist_ok=True)\n",
    "\n",
    "print(\"Setup complete.\")"
   ]
  },
  {
   "cell_type": "markdown",
   "metadata": {},
   "source": [
    "### Read Markdown"
   ]
  },
  {
   "cell_type": "code",
   "execution_count": 20,
   "metadata": {},
   "outputs": [],
   "source": [
    "def read_markdown(file_path):\n",
    "    with open(file_path, 'r', encoding='utf-8') as file:\n",
    "        return file.read()\n"
   ]
  },
  {
   "cell_type": "markdown",
   "metadata": {},
   "source": [
    "### Generate Detailed Skill Map"
   ]
  },
  {
   "cell_type": "code",
   "execution_count": 78,
   "metadata": {},
   "outputs": [],
   "source": [
    "def generate_skill_map(module_number, learning_goals, previous_skills=None):\n",
    "    \"\"\"\n",
    "    Generates a detailed skill map for a module using OpenAI's API.\n",
    "\n",
    "    :param module_number: The current module number (e.g., M1, M2).\n",
    "    :param learning_goals: The basic learning goals extracted from learning_goals.md.\n",
    "    :param previous_skills: Accumulated skills from previous modules.\n",
    "    :return: Detailed skill map as a string.\n",
    "    \"\"\"\n",
    "    prompt = f\"\"\"\n",
    "You are an expert in educational content creation for programming courses. Based on the following learning goals for Module {module_number}, please provide a detailed skill map. The skill map should have a well-defined structure as outlined below:\n",
    "\n",
    "1. **General Description**: Provide an overview of the entire module, summarizing the core concepts covered.\n",
    "\n",
    "2. **Main Points**: For each key concept covered in the module, provide a short general description. \n",
    "\n",
    "3. **Subpoints**: Under each main point, list bullet points that expand on specific details, such as subtopics, examples, or techniques relevant to that concept.\n",
    "\n",
    "Please structure the skill map as follows:\n",
    "- **General Description**: A summary of the module.\n",
    "- **Main Point**: Description of the concept.\n",
    "    - **Subpoints**: Bullet points explaining subtopics or details related to the main point.\n",
    "    \n",
    "Ensure the output follows this structured format.\n",
    "\n",
    "**Basic Learning Goals:**\n",
    "{learning_goals}\n",
    "\n",
    "**Previous Skills:**\n",
    "{previous_skills if previous_skills else \"None\"}\n",
    "\n",
    "**Detailed Skill Map:**\n",
    "\"\"\"\n",
    "\n",
    "    try:\n",
    "        response = openai_client.chat.completions.create(\n",
    "            model=\"gpt-4o-2024-08-06\",\n",
    "            messages=[\n",
    "                {\"role\": \"system\", \"content\": \"You are a university level teacher in programming.\"},\n",
    "                {\"role\": \"user\", \"content\": prompt}\n",
    "            ],\n",
    "            max_tokens=1000,\n",
    "            temperature=0.3,\n",
    "        )\n",
    "        # Corrected access using dot notation\n",
    "        detailed_skill_map = response.choices[0].message.content.strip()\n",
    "        return detailed_skill_map\n",
    "    except Exception as e:\n",
    "        print(f\"Error during OpenAI API call: {e}\")\n",
    "        return None"
   ]
  },
  {
   "cell_type": "markdown",
   "metadata": {},
   "source": [
    "###  Iterate Through Modules and Generate Skill Maps"
   ]
  },
  {
   "cell_type": "code",
   "execution_count": null,
   "metadata": {},
   "outputs": [
    {
     "name": "stdout",
     "output_type": "stream",
     "text": [
      "Processing M1...\n"
     ]
    }
   ],
   "source": [
    "from collections import OrderedDict\n",
    "\n",
    "# Initialize an ordered dictionary to keep track of accumulated skills\n",
    "accumulated_skills = OrderedDict()\n",
    "\n",
    "# Iterate through each module in order (sorted by module number)\n",
    "for module_dir in sorted(MODULES_DIR.iterdir(), key=lambda x: x.name):\n",
    "    if module_dir.is_dir():\n",
    "        module_number = module_dir.name  # e.g., M1, M2, etc.\n",
    "        print(f\"Processing {module_number}...\")\n",
    "\n",
    "        # Path to learning_goals.md\n",
    "        learning_goals_path = module_dir / \"learning_goals.md\"\n",
    "        if not learning_goals_path.exists():\n",
    "            print(f\"  Skipping {module_number}: learning_goals.md not found.\")\n",
    "            continue\n",
    "\n",
    "        # Read basic learning goals\n",
    "        basic_learning_goals = read_markdown(learning_goals_path)\n",
    "\n",
    "        # Get accumulated skills as a string\n",
    "        previous_skills = \"\\n\".join(accumulated_skills.values()) if accumulated_skills else None\n",
    "\n",
    "        # Generate detailed skill map\n",
    "        detailed_skill_map = generate_skill_map(module_number, basic_learning_goals, previous_skills)\n",
    "        if detailed_skill_map:\n",
    "            print(f\"  Generated skill map for {module_number}.\")\n",
    "            # Store in accumulated_skills\n",
    "            accumulated_skills[module_number] = detailed_skill_map\n",
    "        else:\n",
    "            print(f\"  Failed to generate skill map for {module_number}.\")\n"
   ]
  },
  {
   "cell_type": "markdown",
   "metadata": {},
   "source": [
    "### Parse Skill Map"
   ]
  },
  {
   "cell_type": "code",
   "execution_count": 73,
   "metadata": {},
   "outputs": [],
   "source": [
    "def parse_skill_map(detailed_skill_map):\n",
    "    \"\"\"\n",
    "    Parses the detailed skill map text into a hierarchical dictionary.\n",
    "    \n",
    "    :param detailed_skill_map: The detailed skill map as a string.\n",
    "    :return: Parsed skill map as a dictionary with general description and detailed points.\n",
    "    \"\"\"\n",
    "    skill_map = {\"general_description\": \"\", \"detailed_points\": []}\n",
    "    lines = detailed_skill_map.split('\\n')\n",
    "\n",
    "    current_main_point = None\n",
    "\n",
    "    for line in lines:\n",
    "        stripped_line = line.strip()\n",
    "\n",
    "        if stripped_line.startswith(\"**General Description**\"):\n",
    "            # General description section\n",
    "            skill_map['general_description'] = stripped_line.replace(\"**General Description**:\", \"\").strip()\n",
    "        elif stripped_line.startswith(\"**Main Point**\"):\n",
    "            # New main point\n",
    "            if current_main_point:\n",
    "                skill_map['detailed_points'].append(current_main_point)\n",
    "            current_main_point = {\"main_point\": stripped_line.replace(\"**Main Point**:\", \"\").strip(), \"sub_points\": []}\n",
    "        elif stripped_line.startswith('- ') and current_main_point:\n",
    "            # Sub-bullet point for the current main point\n",
    "            sub_point = stripped_line.lstrip('- ').strip()\n",
    "            current_main_point['sub_points'].append(sub_point)\n",
    "\n",
    "    # Add the last main point if exists\n",
    "    if current_main_point:\n",
    "        skill_map['detailed_points'].append(current_main_point)\n",
    "\n",
    "    return skill_map\n"
   ]
  },
  {
   "cell_type": "code",
   "execution_count": 74,
   "metadata": {},
   "outputs": [
    {
     "name": "stdout",
     "output_type": "stream",
     "text": [
      "Saved skill map for M1 to /Users/avidfayyaz/KTH/TA/tests/inda-xx/SkillMap-Extract/skill_map/M1.json.\n",
      "Saved skill map for M2 to /Users/avidfayyaz/KTH/TA/tests/inda-xx/SkillMap-Extract/skill_map/M2.json.\n",
      "Saved skill map for M3 to /Users/avidfayyaz/KTH/TA/tests/inda-xx/SkillMap-Extract/skill_map/M3.json.\n",
      "Saved skill map for M4 to /Users/avidfayyaz/KTH/TA/tests/inda-xx/SkillMap-Extract/skill_map/M4.json.\n",
      "Saved skill map for M5 to /Users/avidfayyaz/KTH/TA/tests/inda-xx/SkillMap-Extract/skill_map/M5.json.\n",
      "Saved skill map for M6 to /Users/avidfayyaz/KTH/TA/tests/inda-xx/SkillMap-Extract/skill_map/M6.json.\n",
      "Saved skill map for M7 to /Users/avidfayyaz/KTH/TA/tests/inda-xx/SkillMap-Extract/skill_map/M7.json.\n",
      "Saved skill map for M8 to /Users/avidfayyaz/KTH/TA/tests/inda-xx/SkillMap-Extract/skill_map/M8.json.\n",
      "Saved skill map for M9 to /Users/avidfayyaz/KTH/TA/tests/inda-xx/SkillMap-Extract/skill_map/M9.json.\n"
     ]
    }
   ],
   "source": [
    "# Iterate through accumulated_skills and save each as a JSON file\n",
    "for module_number, detailed_skill_map in accumulated_skills.items():\n",
    "    # Parse the generated skill map to extract general description and detailed points\n",
    "    parsed_skill_map = parse_skill_map(detailed_skill_map)\n",
    "    \n",
    "    # Define the JSON file path where the skill map will be saved\n",
    "    json_file_path = SKILL_MAP_DIR / f\"{module_number}.json\"\n",
    "    \n",
    "    # Save the parsed skill map as a JSON file\n",
    "    try:\n",
    "        with open(json_file_path, 'w', encoding='utf-8') as json_file:\n",
    "            # Dump the parsed skill map dictionary into the JSON file with indentation for readability\n",
    "            json.dump(parsed_skill_map, json_file, indent=4)\n",
    "        # Print success message\n",
    "        print(f\"Saved skill map for {module_number} to {json_file_path}.\")\n",
    "    except Exception as e:\n",
    "        # Print error message if saving fails\n",
    "        print(f\"  Error saving {module_number} to JSON: {e}\")\n"
   ]
  }
 ],
 "metadata": {
  "kernelspec": {
   "display_name": "Python 3",
   "language": "python",
   "name": "python3"
  },
  "language_info": {
   "codemirror_mode": {
    "name": "ipython",
    "version": 3
   },
   "file_extension": ".py",
   "mimetype": "text/x-python",
   "name": "python",
   "nbconvert_exporter": "python",
   "pygments_lexer": "ipython3",
   "version": "3.11.3"
  }
 },
 "nbformat": 4,
 "nbformat_minor": 2
}
